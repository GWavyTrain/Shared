{
 "cells": [
  {
   "cell_type": "code",
   "execution_count": 1,
   "metadata": {},
   "outputs": [],
   "source": [
    "from astropy.coordinates import SkyCoord  # High-level coordinates\n",
    "from astropy.coordinates import ICRS, Galactic, FK4, FK5  # Low-level frame\n",
    "from astropy.coordinates import Angle, Latitude, Longitude  # Angles\n",
    "import astropy.units as u"
   ]
  },
  {
   "cell_type": "code",
   "execution_count": 11,
   "metadata": {},
   "outputs": [
    {
     "name": "stdout",
     "output_type": "stream",
     "text": [
      "<Galactic Coordinate: (l, b) in deg\n",
      "    (11.23, 58.13)\n",
      " (pm_l_cosb, pm_b) in mas / yr\n",
      "    (21.34, -55.89)>\n"
     ]
    }
   ],
   "source": [
    "#c = SkyCoord(ra=1*u.deg, dec=2*u.deg, pm_ra_cosdec=2*u.mas/u.yr, pm_dec=1*u.mas/u.yr)\n",
    "#ICRS(ra=8.67*u.degree, dec=53.09*u.degree,pm_ra_cosdec=4.8*u.mas/u.yr, pm_dec=-15.16*u.mas/u.yr)  \n",
    "c=Galactic(l=11.23*u.degree, b=58.13*u.degree,pm_l_cosb=21.34*u.mas/u.yr, pm_b=-55.89*u.mas/u.yr)  \n",
    "print(c)"
   ]
  },
  {
   "cell_type": "code",
   "execution_count": 14,
   "metadata": {},
   "outputs": [
    {
     "name": "stdout",
     "output_type": "stream",
     "text": [
      "============================= test session starts ==============================\n",
      "platform darwin -- Python 2.7.15, pytest-3.8.0, py-1.6.0, pluggy-0.7.1\n",
      "\n",
      "Running tests with Astropy version 2.0.8.\n",
      "Running tests in /anaconda2/lib/python2.7/site-packages/astropy.\n",
      "\n",
      "Date: 2018-11-21T11:49:09\n",
      "\n",
      "Platform: Darwin-18.2.0-x86_64-i386-64bit\n",
      "\n",
      "Executable: /anaconda2/bin/python\n",
      "\n",
      "Full Python Version: \n",
      "2.7.15 |Anaconda, Inc.| (default, May  1 2018, 18:37:05) \n",
      "[GCC 4.2.1 Compatible Clang 4.0.1 (tags/RELEASE_401/final)]\n",
      "\n",
      "encodings: sys: ascii, locale: UTF-8, filesystem: utf-8, unicode bits: 15\n",
      "byteorder: little\n",
      "float info: dig: 15, mant_dig: 15\n",
      "\n",
      "Numpy: 1.15.1\n",
      "Scipy: 1.1.0\n",
      "Matplotlib: 2.2.3\n",
      "h5py: 2.8.0\n",
      "Pandas: 0.23.4\n",
      "Cython: 0.28.5\n",
      "astropy_helpers: 2.0.7\n",
      "Using Astropy options: remote_data: none.\n",
      "\n",
      "rootdir: /anaconda2/lib/python2.7/site-packages/astropy, inifile:\n",
      "collected 0 items / 1 errors\n",
      "\n",
      "==================================== ERRORS ====================================\n",
      "______________________ ERROR collecting tests/__init__.py ______________________\n",
      "/anaconda2/lib/python2.7/site-packages/_pytest/runner.py:201: in __init__\n",
      "    self.result = func()\n",
      "/anaconda2/lib/python2.7/site-packages/_pytest/runner.py:261: in <lambda>\n",
      "    call = CallInfo(lambda: list(collector.collect()), \"collect\")\n",
      "/anaconda2/lib/python2.7/site-packages/_pytest/python.py:474: in collect\n",
      "    self.session._fixturemanager.parsefactories(self)\n",
      "/anaconda2/lib/python2.7/site-packages/_pytest/fixtures.py:1265: in parsefactories\n",
      "    holderobj = node_or_obj.obj\n",
      "/anaconda2/lib/python2.7/site-packages/_pytest/python.py:279: in fget\n",
      "    self._obj = obj = self._getobj()\n",
      "/anaconda2/lib/python2.7/site-packages/_pytest/python.py:471: in _getobj\n",
      "    return self._importtestmodule()\n",
      "/anaconda2/lib/python2.7/site-packages/_pytest/python.py:524: in _importtestmodule\n",
      "    self.config.pluginmanager.consider_module(mod)\n",
      "/anaconda2/lib/python2.7/site-packages/_pytest/config/__init__.py:471: in consider_module\n",
      "    self._import_plugin_specs(getattr(mod, \"pytest_plugins\", []))\n",
      "/anaconda2/lib/python2.7/site-packages/_pytest/config/__init__.py:474: in _import_plugin_specs\n",
      "    plugins = _get_plugin_specs_as_list(spec)\n",
      "/anaconda2/lib/python2.7/site-packages/_pytest/config/__init__.py:527: in _get_plugin_specs_as_list\n",
      "    \"list/tuple of strings for plugin names. Given: %r\" % specs\n",
      "E   UsageError: Plugin specs must be a ','-separated string or a list/tuple of strings for plugin names. Given: <module 'astropy.tests.pytest_plugins' from '/anaconda2/lib/python2.7/site-packages/astropy/tests/pytest_plugins.pyc'>\n",
      "=============================== warnings summary ===============================\n",
      "/anaconda2/lib/python2.7/site-packages/scipy/spatial/__init__.py:96: ImportWarning: Not importing directory '/anaconda2/lib/python2.7/site-packages/scipy/spatial/qhull': missing __init__.py\n",
      "  from .qhull import *\n",
      "\n",
      "-- Docs: https://docs.pytest.org/en/latest/warnings.html\n",
      "!!!!!!!!!!!!!!!!!!! Interrupted: 1 errors during collection !!!!!!!!!!!!!!!!!!!!\n",
      "===================== 1 warnings, 1 error in 6.19 seconds ======================\n"
     ]
    },
    {
     "data": {
      "text/plain": [
       "2"
      ]
     },
     "execution_count": 14,
     "metadata": {},
     "output_type": "execute_result"
    }
   ],
   "source": [
    "import sys\n",
    "sys.version\n",
    "sys.version_info\n",
    "import astropy\n",
    "astropy.test()"
   ]
  },
  {
   "cell_type": "code",
   "execution_count": null,
   "metadata": {},
   "outputs": [],
   "source": []
  }
 ],
 "metadata": {
  "kernelspec": {
   "display_name": "Python 2",
   "language": "python",
   "name": "python2"
  },
  "language_info": {
   "codemirror_mode": {
    "name": "ipython",
    "version": 2
   },
   "file_extension": ".py",
   "mimetype": "text/x-python",
   "name": "python",
   "nbconvert_exporter": "python",
   "pygments_lexer": "ipython2",
   "version": "2.7.15"
  }
 },
 "nbformat": 4,
 "nbformat_minor": 2
}
